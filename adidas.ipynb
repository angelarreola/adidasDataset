{
 "cells": [
  {
   "cell_type": "markdown",
   "metadata": {},
   "source": [
    "## Adidas - Dataset"
   ]
  },
  {
   "cell_type": "markdown",
   "metadata": {},
   "source": [
    "#### Inicializacion\n",
    "Primero, inicializamos todas nuestras librerías por usar. En este caso, utilizaremos Selenium y BeautifulSoup para poder manejar todo el HTML que vamos a descargar de la fuente de información. A su vez, tenemos declaraciones fundamentales como lo es el path hacia el driver del navegador y la inicialización del arreglo donde irán todos nuestros zapatos/tenis obtenidos."
   ]
  },
  {
   "cell_type": "code",
   "execution_count": 1,
   "metadata": {},
   "outputs": [
    {
     "name": "stderr",
     "output_type": "stream",
     "text": [
      "C:\\Users\\angel\\AppData\\Local\\Temp\\ipykernel_8288\\3479422961.py:5: DeprecationWarning: \n",
      "Pyarrow will become a required dependency of pandas in the next major release of pandas (pandas 3.0),\n",
      "(to allow more performant data types, such as the Arrow string type, and better interoperability with other libraries)\n",
      "but was not found to be installed on your system.\n",
      "If this would cause problems for you,\n",
      "please provide us feedback at https://github.com/pandas-dev/pandas/issues/54466\n",
      "        \n",
      "  import pandas as pd\n"
     ]
    }
   ],
   "source": [
    "from selenium import webdriver\n",
    "from selenium.webdriver.common.by import By\n",
    "from selenium.webdriver.support.ui import Select\n",
    "from bs4 import BeautifulSoup\n",
    "import pandas as pd\n",
    "import time\n",
    "\n",
    "path = \"C:\\\\Users\\\\angel\\\\Desktop\\\\8avo Semestre\\\\Ciencia de Datos\\\\AdidasDataset\\\\chromedriver-win64\\\\chromedriver.exe\"\n",
    "\n",
    "# Crear una lista para almacenar solo el contenido del DIV de cada elemento\n",
    "shoes_ids = []\n",
    "shoes_names = []\n",
    "shoes_prices = []\n",
    "shoes_category = []\n",
    "shoes_nColors = []\n",
    "shoes_gender = []"
   ]
  },
  {
   "cell_type": "markdown",
   "metadata": {},
   "source": [
    "#### Iniciando el driver\n",
    "\n",
    "Ahora tenemos el siguiente código, el cual arrancará el driver para usarlo a continuación para el manejo de la ventana y la obtención de los datos con BeautifulSoup. Adicionalmente, debemos quitar una ventana emergente, por lo que usamos las funciones del driver para conseguirlo.\n",
    "\n",
    "IMPORTANTE: Tenemos la declaración del sitio, la cual usaremos en 2 ocasiones, debido a que el apartado de todos los tenis de hombre y de mujer está en apartados diferentes."
   ]
  },
  {
   "cell_type": "code",
   "execution_count": 7,
   "metadata": {},
   "outputs": [],
   "source": [
    "# website = \"https://www.adidas.mx/calzado-hombre\"\n",
    "website = \"https://www.adidas.mx/calzado-mujer\"\n",
    "\n",
    "# gender = \"Hombre\"\n",
    "gender = \"Mujer\""
   ]
  },
  {
   "cell_type": "code",
   "execution_count": 8,
   "metadata": {},
   "outputs": [],
   "source": [
    "chrome_options = webdriver.ChromeOptions()\n",
    "chrome_options.add_argument(\"--no-sandbox\")\n",
    "chrome_options.add_argument(\"--disable-dev-shm-usage\")\n",
    "driver = webdriver.Chrome(options=chrome_options)\n",
    "driver.get(website)\n",
    "time.sleep(1)\n",
    "\n",
    "# Buscar el botón \"Siguiente\"\n",
    "next_button = driver.find_element(By.ID, 'glass-gdpr-default-consent-accept-button')\n",
    "# Hacer clic en el botón \"Siguiente\"\n",
    "next_button.click()\n",
    "# Esperar un breve período de tiempo para que se cargue la siguiente página"
   ]
  },
  {
   "cell_type": "markdown",
   "metadata": {},
   "source": [
    "#### Obteniendo los datos, Hombre y Mujer\n",
    "El siguiente código se ejecuta tanto para el enlace al apartado de hombres como al de mujeres, extrayendo así la máxima cantidad de información posible de la página oficial de Adidas. En este, se lleva a cabo un ciclo que recorre todas las páginas disponibles del sitio indicado y extrae la información de los tenis indicando mediante Selenium de qué elementos extraerlos. Todo se va guardando en el arreglo de shoes_html para procesarlo posteriormente con BeautifulSoup."
   ]
  },
  {
   "cell_type": "code",
   "execution_count": 9,
   "metadata": {},
   "outputs": [
    {
     "name": "stdout",
     "output_type": "stream",
     "text": [
      "No se encontró el botón 'Siguiente' o ya no está presente.\n"
     ]
    }
   ],
   "source": [
    "# Lista con todos los tenis de nuesta fuente, primera iteracion 'Hombres', Segunda iteracion 'Mujeres'\n",
    "shoes_html = []\n",
    "\n",
    "try:    \n",
    "    # Definir la cantidad de desplazamientos y el tiempo de espera entre cada uno\n",
    "    scrolls = 4\n",
    "    variableHeight = 2000\n",
    "\n",
    "    # Iniciar el bucle para hacer clic en el botón \"Siguiente\" hasta que no esté presente\n",
    "    while True:\n",
    "        try:\n",
    "            # Buscar el botón \"Siguiente\"\n",
    "            adiClub_button = driver.find_element(By.ID, 'gl-modal__close-mf-account-portal')\n",
    "            # Hacer clic en el botón \"Siguiente\"\n",
    "            adiClub_button.click()\n",
    "        except Exception as e:\n",
    "            pass\n",
    "\n",
    "\n",
    "        driver.execute_script(\"return document.body.scrollHeight\")\n",
    "        for i in range(scrolls):\n",
    "            # Desplazarse hacia abajo\n",
    "            driver.execute_script(f\"window.scrollTo(0, document.body.scrollHeight + {i * variableHeight});\")\n",
    "            # Esperar un breve período de tiempo\n",
    "            time.sleep(1)\n",
    "            # Obtener la nueva altura de la página después del desplazamiento\n",
    "\n",
    "        # Obtener nuevamente todos los elementos que contienen los datos de los productos después del desplazamiento\n",
    "        shoes = driver.find_elements(By.CLASS_NAME, 'grid-item')\n",
    "        # Crear una lista para almacenar el HTML de cada elemento\n",
    "        for shoe in shoes:\n",
    "            shoes_html.append(shoe.get_attribute('outerHTML'))\n",
    "        scrolls = 3\n",
    "        variableHeight = 2500\n",
    "        time.sleep(0.5)\n",
    "\n",
    "\n",
    "        # Buscar el botón \"Siguiente\"\n",
    "        next_button = driver.find_element(By.XPATH, '//a[@data-auto-id=\"plp-pagination-next\"]')\n",
    "        # Hacer clic en el botón \"Siguiente\"\n",
    "        next_button.click()\n",
    "        # Esperar un breve período de tiempo para que se cargue la siguiente página\n",
    "        time.sleep(3)\n",
    "except:\n",
    "    print(\"No se encontró el botón 'Siguiente' o ya no está presente.\")\n",
    "\n",
    "finally:\n",
    "    driver.quit()"
   ]
  },
  {
   "cell_type": "markdown",
   "metadata": {},
   "source": [
    "Una vez ejecutado las dos veces que mencionamos, una para la categoría de hombres y otra para la categoría de mujeres, podemos visualizar la cantidad de registros que tenemos."
   ]
  },
  {
   "cell_type": "code",
   "execution_count": 10,
   "metadata": {},
   "outputs": [
    {
     "data": {
      "text/plain": [
       "2826"
      ]
     },
     "execution_count": 10,
     "metadata": {},
     "output_type": "execute_result"
    }
   ],
   "source": [
    "len(shoes_html)"
   ]
  },
  {
   "cell_type": "markdown",
   "metadata": {},
   "source": [
    "Ahora, con el uso de BeautifulSoup, extraemos solo la información que necesitamos y la vamos ingresando en otros arreglos particulares que serán, al final, las columnas de nuestro archivo CSV final. Nótese que si no se encuentra un dato, se maneja la situación asignándole un valor por defecto. En este caso, los atributos encontrados y almacenados en el dataset fueron:\n",
    "\n",
    "- Id del producto\n",
    "- Nombre del modelo\n",
    "- Precio\n",
    "- Categoría\n",
    "- Número de Colores Disponibles"
   ]
  },
  {
   "cell_type": "code",
   "execution_count": 11,
   "metadata": {},
   "outputs": [],
   "source": [
    "for shoe_html in shoes_html:\n",
    "    shoeSoup = BeautifulSoup(shoe_html, 'html.parser')\n",
    "\n",
    "    grid_item_div = shoeSoup.find('div', class_='grid-item')\n",
    "    shoe_name_tag = shoeSoup.find('p', class_=\"glass-product-card__title\")\n",
    "    shoe_price_tag = shoeSoup.find('div', class_=\"gl-price-item notranslate\")\n",
    "    shoe_priceDiscount_tag = shoeSoup.find('div', class_=\"gl-price-item gl-price-item--sale notranslate\")\n",
    "    shoe_category_tag = shoeSoup.find('p', class_=\"glass-product-card__category\")\n",
    "    shoe_nColors_tag = shoeSoup.find('span', class_=\"dark-grey___6ysQv\")\n",
    "\n",
    "    if shoe_name_tag:\n",
    "        shoe_id = grid_item_div.get('data-grid-id')\n",
    "        shoe_name = shoe_name_tag.text.strip()\n",
    "        shoe_price = shoe_price_tag.text.strip() if shoe_price_tag else shoe_priceDiscount_tag.text.strip() if shoe_priceDiscount_tag  else \"Unknown\"\n",
    "        shoe_category = shoe_category_tag.text.strip() if shoe_category_tag else \"Unknown\"\n",
    "\n",
    "        try:\n",
    "            shoe_nColors = int(shoe_nColors_tag.text.split()[0])\n",
    "        except Exception as e:\n",
    "            shoe_nColors = \"1\"\n",
    "\n",
    "        shoes_ids.append(shoe_id)\n",
    "        shoes_names.append(shoe_name)\n",
    "        shoes_prices.append(shoe_price)\n",
    "        shoes_category.append(shoe_category)\n",
    "        shoes_nColors.append(shoe_nColors)\n",
    "        shoes_gender.append(gender)\n",
    "    else:\n",
    "        continue"
   ]
  },
  {
   "cell_type": "markdown",
   "metadata": {},
   "source": [
    "En este punto, regresamos al paso donde definimos la fuente y cambiamos a la otra opción, en este caso, la sección de calzado para 'Mujer'. Luego, ejecutamos nuevamente hasta este punto.\n",
    "\n",
    "---"
   ]
  },
  {
   "cell_type": "markdown",
   "metadata": {},
   "source": [
    "Finalmente creamos el Dataset con todos los datos que tenemos."
   ]
  },
  {
   "cell_type": "code",
   "execution_count": 12,
   "metadata": {},
   "outputs": [
    {
     "name": "stdout",
     "output_type": "stream",
     "text": [
      "Los datos se han guardado exitosamente en 'adidas_RAW.csv'\n"
     ]
    }
   ],
   "source": [
    "# Crear un DataFrame con los datos de los tenis\n",
    "data = {'id': shoes_ids,'shoe_name': shoes_names, 'shoe_price': shoes_prices, 'shoe_category': shoes_category, 'shoe_nColors': shoes_nColors, 'shoe_genre': shoes_gender}\n",
    "df = pd.DataFrame(data)\n",
    "\n",
    "# Guardar el DataFrame en un archivo CSV\n",
    "df.to_csv('adidas_RAW.csv', index=False, encoding='utf-8-sig')\n",
    "print(\"Los datos se han guardado exitosamente en 'adidas_RAW.csv'\")"
   ]
  },
  {
   "cell_type": "markdown",
   "metadata": {},
   "source": [
    "---\n",
    "---\n",
    "\n",
    "\n",
    "### Codigo extra que se uso para pruebas"
   ]
  },
  {
   "cell_type": "code",
   "execution_count": null,
   "metadata": {},
   "outputs": [],
   "source": [
    "driver.close()"
   ]
  },
  {
   "cell_type": "code",
   "execution_count": null,
   "metadata": {},
   "outputs": [],
   "source": [
    "# for shoe_html in shoes_html:\n",
    "#     shoeSoup = BeautifulSoup(shoe_html, 'html.parser')\n",
    "\n",
    "#     shoe_name_tag = shoeSoup.find('p', class_=\"glass-product-card__title\")\n",
    "#     shoe_price_tag = shoeSoup.find('div', class_=\"gl-price-item notranslate\")\n",
    "#     shoe_priceDiscount_tag = shoeSoup.find('div', class_=\"gl-price-item gl-price-item--sale notranslate\")\n",
    "#     shoe_category_tag = shoeSoup.find('p', class_=\"glass-product-card__category\")\n",
    "#     shoe_nColors_tag = shoeSoup.find('span', class_=\"dark-grey___6ysQv\")\n",
    "\n",
    "#     if shoe_name_tag:\n",
    "#         grid_item_div = shoeSoup.find('div', class_='grid-item')\n",
    "#         print(grid_item_div.get('data-grid-id'))\n",
    "#     else:\n",
    "#         continue"
   ]
  },
  {
   "cell_type": "code",
   "execution_count": null,
   "metadata": {},
   "outputs": [],
   "source": [
    "# # try:    \n",
    "#     # Definir la cantidad de desplazamientos y el tiempo de espera entre cada uno\n",
    "# scrolls = 4\n",
    "# variableHeight = 2000\n",
    "\n",
    "# # Iniciar el bucle para hacer clic en el botón \"Siguiente\" hasta que no esté presente\n",
    "# # while True:\n",
    "# try:\n",
    "#     # Buscar el botón \"Siguiente\"\n",
    "#     adiClub_button = driver.find_element(By.ID, 'gl-modal__close-mf-account-portal')\n",
    "#     # Hacer clic en el botón \"Siguiente\"\n",
    "#     adiClub_button.click()\n",
    "# except Exception as e:\n",
    "#     pass\n",
    "\n",
    "# driver.execute_script(\"return document.body.scrollHeight\")\n",
    "# for i in range(scrolls):\n",
    "#     # Desplazarse hacia abajo\n",
    "#     driver.execute_script(f\"window.scrollTo(0, document.body.scrollHeight + {i * variableHeight});\")\n",
    "#     # Esperar un breve período de tiempo\n",
    "#     time.sleep(1)\n",
    "#     # Obtener la nueva altura de la página después del desplazamiento\n",
    "# # Obtener nuevamente todos los elementos que contienen los datos de los productos después del desplazamiento\n",
    "# shoes = driver.find_elements(By.CLASS_NAME, 'grid-item')\n",
    "# scrolls = 3\n",
    "# variableHeight = 2500\n",
    "\n",
    "#         # # Buscar el botón \"Siguiente\"\n",
    "#         # next_button = driver.find_element(By.XPATH, '//a[@data-auto-id=\"plp-pagination-next\"]')\n",
    "#         # # Hacer clic en el botón \"Siguiente\"\n",
    "#         # next_button.click()\n",
    "#         # # Esperar un breve período de tiempo para que se cargue la siguiente página\n",
    "#         # time.sleep(2)\n",
    "# # except:\n",
    "# #     print(\"No se encontró el botón 'Siguiente' o ya no está presente.\")\n",
    "\n",
    "# # finally:\n",
    "# #     # driver.quit()"
   ]
  },
  {
   "cell_type": "code",
   "execution_count": null,
   "metadata": {},
   "outputs": [],
   "source": [
    "# # try:    \n",
    "#     # Definir la cantidad de desplazamientos y el tiempo de espera entre cada uno\n",
    "# scrolls = 4\n",
    "# variableHeight = 2000\n",
    "\n",
    "#     # Iniciar el bucle para hacer clic en el botón \"Siguiente\" hasta que no esté presente\n",
    "#     # while True:\n",
    "# try:\n",
    "#     # Buscar el botón \"Siguiente\"\n",
    "#     adiClub_button = driver.find_element(By.ID, 'gl-modal__close-mf-account-portal')\n",
    "#     # Hacer clic en el botón \"Siguiente\"\n",
    "#     adiClub_button.click()\n",
    "# except Exception as e:\n",
    "#     pass\n",
    "\n",
    "\n",
    "# driver.execute_script(\"return document.body.scrollHeight\")\n",
    "# for i in range(scrolls):\n",
    "#     # Desplazarse hacia abajo\n",
    "#     driver.execute_script(f\"window.scrollTo(0, document.body.scrollHeight + {i * variableHeight});\")\n",
    "#     # Esperar un breve período de tiempo\n",
    "#     time.sleep(1)\n",
    "#     # Obtener la nueva altura de la página después del desplazamiento\n",
    "\n",
    "# # Obtener nuevamente todos los elementos que contienen los datos de los productos después del desplazamiento\n",
    "# shoes = driver.find_elements(By.CLASS_NAME, 'grid-item')\n",
    "# # Crear una lista para almacenar el HTML de cada elemento\n",
    "# for shoe in shoes:\n",
    "#     shoes_html.append(shoe.get_attribute('outerHTML'))\n",
    "# scrolls = 3\n",
    "# variableHeight = 2500\n",
    "# time.sleep(0.5)\n",
    "\n",
    "\n",
    "# # # Buscar el botón \"Siguiente\"\n",
    "# # next_button = driver.find_element(By.XPATH, '//a[@data-auto-id=\"plp-pagination-next\"]')\n",
    "# # # Hacer clic en el botón \"Siguiente\"\n",
    "# # next_button.click()\n",
    "# # # Esperar un breve período de tiempo para que se cargue la siguiente página\n",
    "# # time.sleep(3)\n",
    "# # except:\n",
    "# #     print(\"No se encontró el botón 'Siguiente' o ya no está presente.\")\n",
    "\n",
    "# # finally:\n",
    "# #     driver.quit()"
   ]
  }
 ],
 "metadata": {
  "kernelspec": {
   "display_name": "base",
   "language": "python",
   "name": "python3"
  },
  "language_info": {
   "codemirror_mode": {
    "name": "ipython",
    "version": 3
   },
   "file_extension": ".py",
   "mimetype": "text/x-python",
   "name": "python",
   "nbconvert_exporter": "python",
   "pygments_lexer": "ipython3",
   "version": "3.12.1"
  }
 },
 "nbformat": 4,
 "nbformat_minor": 2
}
